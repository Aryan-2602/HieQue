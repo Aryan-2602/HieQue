{
 "cells": [
  {
   "cell_type": "code",
   "execution_count": 1,
   "metadata": {},
   "outputs": [],
   "source": [
    "import PyPDF2"
   ]
  },
  {
   "cell_type": "code",
   "execution_count": 9,
   "metadata": {},
   "outputs": [],
   "source": [
    "def extract_text_from_pdf(file_path):\n",
    "    with open(file_path, 'rb') as file:\n",
    "        reader = PyPDF2.PdfReader(file)\n",
    "        text = \"\"\n",
    "        for page in range(len(reader.pages)):\n",
    "            text += reader.pages[page].extract_text()  # Use extract_text() instead of extractText()\n",
    "    return text\n",
    "\n",
    "# Usage\n",
    "book1_path = \"/Users/aryanmaheshwari/stepsai-test/books/Artificial Intelligence_ A Modern Approach.pdf\"\n",
    "book2_path = \"/Users/aryanmaheshwari/stepsai-test/books/Jared_Diamond-Guns_Germs_and_Steel.pdf\"\n",
    "book3_path = \"/Users/aryanmaheshwari/stepsai-test/books/Neil A. Campbell, Jane B. Reece - Biology-Pearson Benjamin Cummings (2005) (2).pdf\"\n",
    "\n",
    "text1 = extract_text_from_pdf(book1_path)\n",
    "text2 = extract_text_from_pdf(book2_path)\n",
    "text3 = extract_text_from_pdf(book3_path)\n"
   ]
  }
 ],
 "metadata": {
  "kernelspec": {
   "display_name": "Python 3",
   "language": "python",
   "name": "python3"
  },
  "language_info": {
   "codemirror_mode": {
    "name": "ipython",
    "version": 3
   },
   "file_extension": ".py",
   "mimetype": "text/x-python",
   "name": "python",
   "nbconvert_exporter": "python",
   "pygments_lexer": "ipython3",
   "version": "3.11.9"
  }
 },
 "nbformat": 4,
 "nbformat_minor": 2
}
